{
 "cells": [
  {
   "cell_type": "code",
   "execution_count": 4,
   "id": "df6d4728",
   "metadata": {},
   "outputs": [
    {
     "name": "stdout",
     "output_type": "stream",
     "text": [
      "Enabling notebook extension ipyaggrid/extension...\n",
      "      - Validating: \u001b[32mOK\u001b[0m\n"
     ]
    }
   ],
   "source": [
    "!jupyter nbextension enable --py ipyaggrid"
   ]
  },
  {
   "cell_type": "code",
   "execution_count": 7,
   "id": "88f40652",
   "metadata": {},
   "outputs": [
    {
     "name": "stdout",
     "output_type": "stream",
     "text": [
      "File evals/cse/cse-197.csv is empty, skipping.\n",
      "File evals/cse/cse-197c.csv is empty, skipping.\n",
      "File evals/cse/cse-199h.csv is empty, skipping.\n",
      "File evals/cse/cse-180r.csv is empty, skipping.\n",
      "File evals/cse/cse-199.csv is empty, skipping.\n",
      "File evals/cse/cse-99.csv is empty, skipping.\n",
      "File evals/cse/cse-195.csv is empty, skipping.\n",
      "All files processed.\n"
     ]
    },
    {
     "data": {
      "application/vnd.jupyter.widget-view+json": {
       "model_id": "4ef2c61bde794e3c886caee1f30e05a7",
       "version_major": 2,
       "version_minor": 0
      },
      "text/plain": [
       "Dropdown(description='Primary Sort Column:', options=('Instructor', 'Course', 'Term', 'Enroll', 'Evals Made', …"
      ]
     },
     "metadata": {},
     "output_type": "display_data"
    },
    {
     "data": {
      "application/vnd.jupyter.widget-view+json": {
       "model_id": "fc6a6e724e514f929dd537cee26d0d70",
       "version_major": 2,
       "version_minor": 0
      },
      "text/plain": [
       "Dropdown(description='Primary Sort Order:', options=('Ascending', 'Descending'), value='Ascending')"
      ]
     },
     "metadata": {},
     "output_type": "display_data"
    },
    {
     "data": {
      "application/vnd.jupyter.widget-view+json": {
       "model_id": "6e2af20ed80748738adc136f96203edc",
       "version_major": 2,
       "version_minor": 0
      },
      "text/plain": [
       "Dropdown(description='Secondary Sort Column:', options=('Instructor', 'Course', 'Term', 'Enroll', 'Evals Made'…"
      ]
     },
     "metadata": {},
     "output_type": "display_data"
    },
    {
     "data": {
      "application/vnd.jupyter.widget-view+json": {
       "model_id": "14b8fb3141da4b49b0ae65c1b7d6ea3b",
       "version_major": 2,
       "version_minor": 0
      },
      "text/plain": [
       "Dropdown(description='Secondary Sort Order:', options=('Ascending', 'Descending'), value='Ascending')"
      ]
     },
     "metadata": {},
     "output_type": "display_data"
    },
    {
     "data": {
      "application/vnd.jupyter.widget-view+json": {
       "model_id": "a923086902ce4a0c83c036d34b57b652",
       "version_major": 2,
       "version_minor": 0
      },
      "text/plain": [
       "Button(description='Sort Data', style=ButtonStyle())"
      ]
     },
     "metadata": {},
     "output_type": "display_data"
    },
    {
     "data": {
      "application/vnd.jupyter.widget-view+json": {
       "model_id": "1b36f8eb4aee42118d37419b1e702b20",
       "version_major": 2,
       "version_minor": 0
      },
      "text/plain": [
       "Grid(columns_fit='size_to_fit', compress_data=True, export_mode='buttons', height='350px', menu={'buttons': [{…"
      ]
     },
     "execution_count": 7,
     "metadata": {},
     "output_type": "execute_result"
    }
   ],
   "source": [
    "import glob\n",
    "import pandas as pd\n",
    "import numpy as np\n",
    "import datetime\n",
    "from ipyaggrid import Grid\n",
    "import ipywidgets as widgets\n",
    "\n",
    "def load_data(directory):\n",
    "    files = glob.glob(f\"{directory}/**/*.csv\", recursive=True)\n",
    "    df_list = []\n",
    "    file_count = 0\n",
    "    for f in files:\n",
    "        file_count += 1\n",
    "        try:\n",
    "            temp_df = pd.read_csv(f)\n",
    "            if not temp_df.empty: \n",
    "                df_list.append(temp_df)\n",
    "        except pd.errors.EmptyDataError:\n",
    "            print(f'File {f} is empty, skipping.')\n",
    "    print('All files processed.')\n",
    "    df = pd.concat(df_list, ignore_index=True)\n",
    "    df.replace(to_replace=[r\"\\\\t|\\\\n|\\\\r\", \"\\t|\\n|\\r\"], value=[\"\",\"\"], regex=True, inplace=True)\n",
    "    return df\n",
    "\n",
    "def clean_data(df):\n",
    "    df.replace(['N/A', r\"\\\\t|\\\\n|\\\\r\", \"\\t|\\n|\\r\"], [np.nan, \"\", \"\"], regex=True, inplace=True)\n",
    "    df.dropna(inplace=True)\n",
    "    df['Course'] = df['Course'].str.replace(r'\\([A-Z]\\)$', '', regex=True)\n",
    "    df['Avg Grade Expected'] = df['Avg Grade Expected'].str.extract(r'\\((.*?)\\)', expand=False)\n",
    "    df['Avg Grade Received'] = df['Avg Grade Received'].str.extract(r'\\((.*?)\\)', expand=False)\n",
    "    for col in ['Rcmnd Class', 'Rcmnd Instr']:\n",
    "        df[col] = df[col].str.rstrip('%').astype('float') / 100.0\n",
    "    for col in ['Avg Grade Expected', 'Avg Grade Received', 'Study Hrs/wk']:\n",
    "        df[col] = df[col].astype(float)\n",
    "    return df\n",
    "\n",
    "df = load_data('evals')\n",
    "df = clean_data(df)\n",
    "\n",
    "def weighted_mean(x, weights):\n",
    "    return np.average(x, weights=weights)\n",
    "\n",
    "def term_to_date(term):\n",
    "    term_mapping = {'FA': '09', 'WI': '01', 'SP': '03', 'S1': '06', 'S2': '08', 'S3': '07'}\n",
    "    term_season, term_year = term[:2], term[2:]\n",
    "    if term_year <= str(datetime.datetime.now().year)[-2:]:\n",
    "        term_year = '20' + term_year\n",
    "    else:\n",
    "        term_year = '19' + term_year\n",
    "    return pd.to_datetime(term_year + term_mapping[term_season] + '01')\n",
    "\n",
    "df['Term'] = df['Term'].apply(term_to_date)\n",
    "\n",
    "agg_dict = {\n",
    "    'Term': 'max',\n",
    "    'Enroll': 'sum',\n",
    "    'Evals Made': 'sum',\n",
    "    'Rcmnd Class': lambda x: weighted_mean(x, weights=df.loc[x.index, 'Evals Made']),\n",
    "    'Rcmnd Instr': lambda x: weighted_mean(x, weights=df.loc[x.index, 'Evals Made']),\n",
    "    'Study Hrs/wk': lambda x: weighted_mean(x, weights=df.loc[x.index, 'Evals Made']),\n",
    "    'Avg Grade Expected': lambda x: weighted_mean(x, weights=df.loc[x.index, 'Evals Made']),\n",
    "    'Avg Grade Received': lambda x: weighted_mean(x, weights=df.loc[x.index, 'Enroll'])\n",
    "}\n",
    "\n",
    "df = df.groupby(['Instructor', 'Course']).agg(agg_dict).reset_index()\n",
    "\n",
    "df['Term'] = df['Term'].apply(lambda x: {1: 'WI', 3: 'SP', 6: 'S1', 7: 'S3', 8: 'S2', 9: 'FA'}[x.month] + str(x.year)[-2:])\n",
    "df['Rcmnd Class'] = df['Rcmnd Class'].apply(lambda x: '{:.1%}'.format(x))\n",
    "df['Rcmnd Instr'] = df['Rcmnd Instr'].apply(lambda x: '{:.1%}'.format(x))\n",
    "df['Study Hrs/wk'] = df['Study Hrs/wk'].round(2)\n",
    "df['Avg Grade Expected'] = df['Avg Grade Expected'].round(2)\n",
    "df['Avg Grade Received'] = df['Avg Grade Received'].round(2)\n",
    "\n",
    "def on_button_clicked(b):\n",
    "    primary_column = primary_column_select.value\n",
    "    secondary_column = secondary_column_select.value\n",
    "    order_primary = True if primary_sort_order.value == 'Ascending' else False\n",
    "    order_secondary = True if secondary_sort_order.value == 'Ascending' else False\n",
    "    sorted_df = df.sort_values(by=[primary_column, secondary_column], ascending=[order_primary, order_secondary])\n",
    "    display(get_grid(sorted_df))\n",
    "\n",
    "primary_column_select = widgets.Dropdown(\n",
    "    options=df.columns.tolist(),\n",
    "    value=df.columns[0],\n",
    "    description='Primary Sort Column:',\n",
    ")\n",
    "\n",
    "primary_sort_order = widgets.Dropdown(\n",
    "    options=['Ascending', 'Descending'],\n",
    "    value='Ascending',\n",
    "    description='Primary Sort Order:',\n",
    ")\n",
    "\n",
    "secondary_column_select = widgets.Dropdown(\n",
    "    options=df.columns.tolist(),\n",
    "    value=df.columns[0],\n",
    "    description='Secondary Sort Column:',\n",
    ")\n",
    "\n",
    "secondary_sort_order = widgets.Dropdown(\n",
    "    options=['Ascending', 'Descending'],\n",
    "    value='Ascending',\n",
    "    description='Secondary Sort Order:',\n",
    ")\n",
    "\n",
    "sort_button = widgets.Button(description=\"Sort Data\")\n",
    "sort_button.on_click(on_button_clicked)\n",
    "\n",
    "display(primary_column_select)\n",
    "display(primary_sort_order)\n",
    "display(secondary_column_select)\n",
    "display(secondary_sort_order)\n",
    "display(sort_button)\n",
    "\n",
    "\n",
    "display(primary_column_select)\n",
    "display(primary_sort_order)\n",
    "display(secondary_column_select)\n",
    "display(secondary_sort_order)\n",
    "display(sort_button)\n",
    "\n",
    "def get_grid(data):\n",
    "    grid_options = {\n",
    "        'columnDefs' : [{'field': c} for c in data.columns],\n",
    "        'enableSorting': True, \n",
    "        'enableFilter': True, \n",
    "        'enableColResize': True, \n",
    "        'enableRangeSelection': True,\n",
    "    }\n",
    "\n",
    "    grid = Grid(grid_data=data, \n",
    "                grid_options=grid_options,\n",
    "                quick_filter=True,\n",
    "                show_toggle_edit=True,\n",
    "                export_mode=\"buttons\",\n",
    "                export_csv=True,\n",
    "                export_excel=True,\n",
    "                theme='ag-theme-balham',\n",
    "                show_toggle_delete=True,\n",
    "                index=True,\n",
    "                keep_multiindex=False)\n",
    "    \n",
    "    return grid\n",
    "\n",
    "display(get_grid(df))\n"
   ]
  }
 ],
 "metadata": {
  "kernelspec": {
   "display_name": "Python 3",
   "language": "python",
   "name": "python3"
  },
  "language_info": {
   "codemirror_mode": {
    "name": "ipython",
    "version": 3
   },
   "file_extension": ".py",
   "mimetype": "text/x-python",
   "name": "python",
   "nbconvert_exporter": "python",
   "pygments_lexer": "ipython3",
   "version": "3.10.6"
  }
 },
 "nbformat": 4,
 "nbformat_minor": 5
}
