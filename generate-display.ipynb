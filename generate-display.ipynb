{
 "cells": [
  {
   "cell_type": "code",
   "execution_count": 19,
   "metadata": {},
   "outputs": [
    {
     "name": "stdout",
     "output_type": "stream",
     "text": [
      "File evals\\cse\\cse-180r.csv is empty, skipping.\n",
      "File evals\\cse\\cse-195.csv is empty, skipping.\n",
      "File evals\\cse\\cse-197.csv is empty, skipping.\n",
      "File evals\\cse\\cse-197c.csv is empty, skipping.\n",
      "File evals\\cse\\cse-199.csv is empty, skipping.\n",
      "File evals\\cse\\cse-199h.csv is empty, skipping.\n",
      "File evals\\cse\\cse-99.csv is empty, skipping.\n",
      "All files processed.\n"
     ]
    },
    {
     "data": {
      "application/vnd.jupyter.widget-view+json": {
       "model_id": "db88bb46b28e4479b1932119031bfff9",
       "version_major": 2,
       "version_minor": 0
      },
      "text/plain": [
       "Dropdown(description='Department:', options=('All', 'CHEM', 'MATH', 'ESYS', 'PHYS', 'MUS', 'BENG', 'ECE', 'MAE…"
      ]
     },
     "metadata": {},
     "output_type": "display_data"
    },
    {
     "data": {
      "application/vnd.jupyter.widget-view+json": {
       "model_id": "56370c6b020e4352bba48ea1e0d495ef",
       "version_major": 2,
       "version_minor": 0
      },
      "text/plain": [
       "Dropdown(description='Course Number:', options=('All', '167', '11', '181B', '183', '20E', '102', '130A', '5', …"
      ]
     },
     "metadata": {},
     "output_type": "display_data"
    },
    {
     "data": {
      "application/vnd.jupyter.widget-view+json": {
       "model_id": "e4aacb1f352d4d65a6676f6fa615583b",
       "version_major": 2,
       "version_minor": 0
      },
      "text/plain": [
       "Dropdown(description='Primary Sort:', options=('Instructor', 'Course', 'Term', 'Enroll', 'Evals Made', 'Rcmnd …"
      ]
     },
     "metadata": {},
     "output_type": "display_data"
    },
    {
     "data": {
      "application/vnd.jupyter.widget-view+json": {
       "model_id": "e6e9c3e061384c41b7c272d617908f40",
       "version_major": 2,
       "version_minor": 0
      },
      "text/plain": [
       "Dropdown(description='Primary Order:', options=('Ascending', 'Descending'), value='Ascending')"
      ]
     },
     "metadata": {},
     "output_type": "display_data"
    },
    {
     "data": {
      "application/vnd.jupyter.widget-view+json": {
       "model_id": "629cfc834760452381bd79c86e8ca414",
       "version_major": 2,
       "version_minor": 0
      },
      "text/plain": [
       "Dropdown(description='Secondary Sort:', index=1, options=('Instructor', 'Course', 'Term', 'Enroll', 'Evals Mad…"
      ]
     },
     "metadata": {},
     "output_type": "display_data"
    },
    {
     "data": {
      "application/vnd.jupyter.widget-view+json": {
       "model_id": "e09a64a85f8649d19dc6c091287e2d46",
       "version_major": 2,
       "version_minor": 0
      },
      "text/plain": [
       "Dropdown(description='Secondary Order:', options=('Ascending', 'Descending'), value='Ascending')"
      ]
     },
     "metadata": {},
     "output_type": "display_data"
    },
    {
     "data": {
      "application/vnd.jupyter.widget-view+json": {
       "model_id": "62df8a0052164c75b9d84349b2a1514d",
       "version_major": 2,
       "version_minor": 0
      },
      "text/plain": [
       "Button(description='Sort Data', style=ButtonStyle())"
      ]
     },
     "metadata": {},
     "output_type": "display_data"
    }
   ],
   "source": [
    "import glob\n",
    "import pandas as pd\n",
    "import ipywidgets as widgets\n",
    "from IPython.display import display\n",
    "from IPython.display import clear_output\n",
    "import numpy as np\n",
    "import datetime\n",
    "\n",
    "def load_data(directory):\n",
    "    files = glob.glob(f\"{directory}/**/*.csv\", recursive=True)\n",
    "    df_list = []\n",
    "    file_count = 0\n",
    "    for f in files:\n",
    "        file_count += 1\n",
    "        try:\n",
    "            temp_df = pd.read_csv(f)\n",
    "            if not temp_df.empty: \n",
    "                df_list.append(temp_df)\n",
    "        except pd.errors.EmptyDataError:\n",
    "            print(f'File {f} is empty, skipping.')\n",
    "    print('All files processed.')\n",
    "    df = pd.concat(df_list, ignore_index=True)\n",
    "    df.replace(to_replace=[r\"\\\\t|\\\\n|\\\\r\", \"\\t|\\n|\\r\"], value=[\"\",\"\"], regex=True, inplace=True)\n",
    "    return df\n",
    "\n",
    "def clean_data(df):\n",
    "    df.replace(['N/A', r\"\\\\t|\\\\n|\\\\r\", \"\\t|\\n|\\r\"], [np.nan, \"\", \"\"], regex=True, inplace=True)\n",
    "    df.dropna(inplace=True)\n",
    "    df['Course'] = df['Course'].str.replace(r'\\([A-Z]\\)$', '', regex=True)\n",
    "    df['Avg Grade Expected'] = df['Avg Grade Expected'].str.extract(r'\\((.*?)\\)', expand=False)\n",
    "    df['Avg Grade Received'] = df['Avg Grade Received'].str.extract(r'\\((.*?)\\)', expand=False)\n",
    "    for col in ['Rcmnd Class', 'Rcmnd Instr']:\n",
    "        df[col] = df[col].str.rstrip('%').astype('float') / 100.0\n",
    "    for col in ['Avg Grade Expected', 'Avg Grade Received', 'Study Hrs/wk']:\n",
    "        df[col] = df[col].astype(float)\n",
    "    return df\n",
    "\n",
    "df = load_data('evals')\n",
    "df = clean_data(df)\n",
    "\n",
    "def weighted_mean(x, weights):\n",
    "    return np.average(x, weights=weights)\n",
    "\n",
    "def term_to_date(term):\n",
    "    term_mapping = {'FA': '09', 'WI': '01', 'SP': '03', 'S1': '06', 'S2': '08', 'S3': '07'}\n",
    "    term_season, term_year = term[:2], term[2:]\n",
    "    if term_year <= str(datetime.datetime.now().year)[-2:]:\n",
    "        term_year = '20' + term_year\n",
    "    else:\n",
    "        term_year = '19' + term_year\n",
    "    return pd.to_datetime(term_year + term_mapping[term_season] + '01')\n",
    "\n",
    "df['Term'] = df['Term'].apply(term_to_date)\n",
    "\n",
    "agg_dict = {\n",
    "    'Term': 'max',\n",
    "    'Enroll': 'sum',\n",
    "    'Evals Made': 'sum',\n",
    "    'Rcmnd Class': lambda x: weighted_mean(x, weights=df.loc[x.index, 'Evals Made']),\n",
    "    'Rcmnd Instr': lambda x: weighted_mean(x, weights=df.loc[x.index, 'Evals Made']),\n",
    "    'Study Hrs/wk': lambda x: weighted_mean(x, weights=df.loc[x.index, 'Evals Made']),\n",
    "    'Avg Grade Expected': lambda x: weighted_mean(x, weights=df.loc[x.index, 'Evals Made']),\n",
    "    'Avg Grade Received': lambda x: weighted_mean(x, weights=df.loc[x.index, 'Enroll'])\n",
    "}\n",
    "\n",
    "df = df.groupby(['Instructor', 'Course']).agg(agg_dict).reset_index()\n",
    "\n",
    "df['Term'] = df['Term'].apply(lambda x: {1: 'WI', 3: 'SP', 6: 'S1', 7: 'S3', 8: 'S2', 9: 'FA'}[x.month] + str(x.year)[-2:])\n",
    "df['Rcmnd Class'] = df['Rcmnd Class'].apply(lambda x: '{:.1%}'.format(x))\n",
    "df['Rcmnd Instr'] = df['Rcmnd Instr'].apply(lambda x: '{:.1%}'.format(x))\n",
    "df['Study Hrs/wk'] = df['Study Hrs/wk'].round(2)\n",
    "df['Avg Grade Expected'] = df['Avg Grade Expected'].round(2)\n",
    "df['Avg Grade Received'] = df['Avg Grade Received'].round(2)\n",
    "df['Department'] = df['Course'].str.split().str[0]\n",
    "df['CourseNumber'] = df['Course'].str.split().str[1]\n",
    "\n",
    "column_select_primary = widgets.Dropdown(\n",
    "    options=df.columns.tolist(),\n",
    "    value='Instructor',\n",
    "    description='Primary Sort:',\n",
    ")\n",
    "column_select_secondary = widgets.Dropdown(\n",
    "    options=df.columns.tolist(),\n",
    "    value='Course',\n",
    "    description='Secondary Sort:',\n",
    ")\n",
    "sort_order_primary = widgets.Dropdown(\n",
    "    options=['Ascending', 'Descending'],\n",
    "    value='Ascending',\n",
    "    description='Primary Order:',\n",
    ")\n",
    "sort_order_secondary = widgets.Dropdown(\n",
    "    options=['Ascending', 'Descending'],\n",
    "    value='Ascending',\n",
    "    description='Secondary Order:',\n",
    ")\n",
    "\n",
    "department_select = widgets.Dropdown(\n",
    "    options=['All'] + df['Department'].unique().tolist(),\n",
    "    value='All',\n",
    "    description='Department:',\n",
    ")\n",
    "\n",
    "course_select = widgets.Dropdown(\n",
    "    options=['All'] + df['CourseNumber'].unique().tolist(),\n",
    "    value='All',\n",
    "    description='Course Number:',\n",
    ")\n",
    "\n",
    "def on_button_clicked(b):\n",
    "    clear_output(wait=True)\n",
    "    \n",
    "    primary_column = column_select_primary.value\n",
    "    secondary_column = column_select_secondary.value\n",
    "    primary_order = True if sort_order_primary.value == 'Ascending' else False\n",
    "    secondary_order = True if sort_order_secondary.value == 'Ascending' else False\n",
    "\n",
    "    selected_department = department_select.value\n",
    "    selected_course = course_select.value\n",
    "\n",
    "    temp_df = df.copy()\n",
    "    if selected_department != 'All':\n",
    "        temp_df = temp_df[temp_df['Department'] == selected_department]\n",
    "    if selected_course != 'All':\n",
    "        temp_df = temp_df[temp_df['CourseNumber'] == selected_course]\n",
    "\n",
    "    display(temp_df.sort_values(by=[primary_column, secondary_column], ascending=[primary_order, secondary_order]).head(50))\n",
    "\n",
    "    display(department_select)\n",
    "    display(course_select)\n",
    "    display(column_select_primary)\n",
    "    display(sort_order_primary)\n",
    "    display(column_select_secondary)\n",
    "    display(sort_order_secondary)\n",
    "    display(sort_button)\n",
    "\n",
    "display(department_select)\n",
    "display(course_select)\n",
    "display(column_select_primary)\n",
    "display(sort_order_primary)\n",
    "display(column_select_secondary)\n",
    "display(sort_order_secondary)\n",
    "display(sort_button)\n"
   ]
  }
 ],
 "metadata": {
  "kernelspec": {
   "display_name": "Python 3",
   "language": "python",
   "name": "python3"
  },
  "language_info": {
   "codemirror_mode": {
    "name": "ipython",
    "version": 3
   },
   "file_extension": ".py",
   "mimetype": "text/x-python",
   "name": "python",
   "nbconvert_exporter": "python",
   "pygments_lexer": "ipython3",
   "version": "3.11.4"
  }
 },
 "nbformat": 4,
 "nbformat_minor": 5
}
